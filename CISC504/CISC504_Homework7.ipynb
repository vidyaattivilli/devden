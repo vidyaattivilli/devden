{
 "cells": [
  {
   "cell_type": "markdown",
   "metadata": {},
   "source": [
    "Write a conversion program, calculator, or write any other program which uses a multi-way decision structure if, elif, else, and boolean logic to classify the outcome."
   ]
  },
  {
   "cell_type": "code",
   "execution_count": 4,
   "metadata": {},
   "outputs": [],
   "source": [
    "import random as rand\n",
    "def guessTheNumber():\n",
    "    target = rand.randint(0,50)\n",
    "    print('I have chosen a number between 1 - 50 (both included). Please enter your guess..')\n",
    "    guess=0\n",
    "    while guess!=target:\n",
    "        guess = int(input())\n",
    "        if guess==target: print('Bulls eye!')\n",
    "        elif guess > target: print('Try a smaller number')\n",
    "        else: print('Try a bigger number')"
   ]
  },
  {
   "cell_type": "code",
   "execution_count": 5,
   "metadata": {},
   "outputs": [
    {
     "name": "stdout",
     "output_type": "stream",
     "text": [
      "I have chosen a number between 1 - 50 (both included). Please enter your guess..\n",
      "34\n",
      "Try a bigger number\n",
      "45\n",
      "Try a smaller number\n",
      "40\n",
      "Try a bigger number\n",
      "42\n",
      "Try a smaller number\n",
      "41\n",
      "Bulls eye!\n"
     ]
    }
   ],
   "source": [
    "guessTheNumber()"
   ]
  },
  {
   "cell_type": "markdown",
   "metadata": {},
   "source": [
    "Write a program which will generate some exceptions then use the try,except, else, and finally statements to handle them."
   ]
  },
  {
   "cell_type": "code",
   "execution_count": 8,
   "metadata": {},
   "outputs": [],
   "source": [
    "import random as rand\n",
    "def guessTheNumber():\n",
    "    target = rand.randint(0,50)\n",
    "    print('I have chosen a number between 1 - 50 (both included). Please enter your guess..')\n",
    "    guess=0\n",
    "    while guess!=target:\n",
    "        try:\n",
    "            guess = int(input())\n",
    "        except:\n",
    "            print('Sorry, you need to enter a number between 1 to 50.')\n",
    "        else:\n",
    "            if guess==target: print('Bulls eye!')\n",
    "            elif guess > target: print('Go lower.')\n",
    "            else: print('Go higher.')\n",
    "        finally:\n",
    "            print()"
   ]
  },
  {
   "cell_type": "code",
   "execution_count": 9,
   "metadata": {},
   "outputs": [
    {
     "name": "stdout",
     "output_type": "stream",
     "text": [
      "I have chosen a number between 1 - 50 (both included). Please enter your guess..\n",
      "hry2\n",
      "Sorry, you need to enter a number between 1 to 50.\n",
      "\n",
      "32\n",
      "Go lower.\n",
      "\n",
      "45\n",
      "Go lower.\n",
      "\n",
      "23\n",
      "Go lower.\n",
      "\n",
      "12\n",
      "Go higher.\n",
      "\n",
      "14\n",
      "Bulls eye!\n",
      "\n"
     ]
    }
   ],
   "source": [
    "guessTheNumber()"
   ]
  },
  {
   "cell_type": "code",
   "execution_count": null,
   "metadata": {},
   "outputs": [],
   "source": []
  }
 ],
 "metadata": {
  "kernelspec": {
   "display_name": "Python 3",
   "language": "python",
   "name": "python3"
  },
  "language_info": {
   "codemirror_mode": {
    "name": "ipython",
    "version": 3
   },
   "file_extension": ".py",
   "mimetype": "text/x-python",
   "name": "python",
   "nbconvert_exporter": "python",
   "pygments_lexer": "ipython3",
   "version": "3.7.0"
  }
 },
 "nbformat": 4,
 "nbformat_minor": 2
}
