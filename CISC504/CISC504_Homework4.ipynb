{
 "cells": [
  {
   "cell_type": "markdown",
   "metadata": {},
   "source": [
    "Exercise 1: Suppose you have a database with first and last name, the first entry is as follows: First_name=John and last_name=Smith. Create the two variables and then use the slice and concatenate operations to create a new variable which lists the first letter of first name and complete last name as follows: Jsmith."
   ]
  },
  {
   "cell_type": "code",
   "execution_count": 16,
   "metadata": {},
   "outputs": [],
   "source": [
    "def getUserName(first_name, last_name):\n",
    "    last_name = last_name.lower()  # going according to the example given.\n",
    "    return first_name[:1] + last_name"
   ]
  },
  {
   "cell_type": "code",
   "execution_count": 17,
   "metadata": {},
   "outputs": [
    {
     "data": {
      "text/plain": [
       "'Jsmith'"
      ]
     },
     "execution_count": 17,
     "metadata": {},
     "output_type": "execute_result"
    }
   ],
   "source": [
    "getUserName(\"John\", \"Smith\")"
   ]
  },
  {
   "cell_type": "markdown",
   "metadata": {},
   "source": [
    "Exercise 2: You discovered that taking the first letter from every word in a sentence you found on a piece of paper deciphers a secret message. The sentence is as follows: Send eagle cross rainbow entire time. Use the slice and concatenate functions or just slice function to decipher."
   ]
  },
  {
   "cell_type": "code",
   "execution_count": 18,
   "metadata": {},
   "outputs": [],
   "source": [
    "def secretMessage(code):\n",
    "    words = code.split()\n",
    "    result = ''\n",
    "    for word in words:\n",
    "        result = result + word[:1]\n",
    "    print(result)"
   ]
  },
  {
   "cell_type": "code",
   "execution_count": 19,
   "metadata": {},
   "outputs": [
    {
     "name": "stdout",
     "output_type": "stream",
     "text": [
      "Secret\n"
     ]
    }
   ],
   "source": [
    "secretMessage(\"Send eagle cross rainbow entire time\")"
   ]
  },
  {
   "cell_type": "markdown",
   "metadata": {},
   "source": [
    "Exercise 3: Write a program to decrypt the message, there are many ways to compute a solution, one way is to use the ord function."
   ]
  },
  {
   "cell_type": "code",
   "execution_count": 21,
   "metadata": {},
   "outputs": [
    {
     "name": "stdout",
     "output_type": "stream",
     "text": [
      "Message you would like decrypted:\n",
      "rfgq gq y qcapcr\n",
      "this is a secret\n"
     ]
    }
   ],
   "source": [
    "from string import ascii_lowercase as Characters\n",
    "\n",
    "def shift(message, offset):\n",
    "    trans = str.maketrans(Characters, Characters[offset:] + Characters[:offset])\n",
    "    return message.lower().translate(trans)\n",
    "\n",
    "print(shift(input(\"Message you would like decrypted:\\n\"), 2))"
   ]
  },
  {
   "cell_type": "code",
   "execution_count": null,
   "metadata": {},
   "outputs": [],
   "source": []
  }
 ],
 "metadata": {
  "kernelspec": {
   "display_name": "Python 3",
   "language": "python",
   "name": "python3"
  },
  "language_info": {
   "codemirror_mode": {
    "name": "ipython",
    "version": 3
   },
   "file_extension": ".py",
   "mimetype": "text/x-python",
   "name": "python",
   "nbconvert_exporter": "python",
   "pygments_lexer": "ipython3",
   "version": "3.7.0"
  }
 },
 "nbformat": 4,
 "nbformat_minor": 2
}
