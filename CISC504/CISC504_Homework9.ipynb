{
 "cells": [
  {
   "cell_type": "markdown",
   "metadata": {},
   "source": [
    "Exercise 1: Write an algorithm which incoporates a loop which iterates over List_1, posted below, and determines if a number is odd or even. If an number is even it prints out str(number) + 'This number is even' otherwise it prints out 'this number is odd'.\n"
   ]
  },
  {
   "cell_type": "code",
   "execution_count": 10,
   "metadata": {},
   "outputs": [],
   "source": [
    "def oddOrEven(num_list):\n",
    "    for num in num_list:\n",
    "        if num % 2 == 0:\n",
    "            print(str(num) + ' is an even number.')\n",
    "        else:\n",
    "            print(str(num) + ' is an odd number.')"
   ]
  },
  {
   "cell_type": "code",
   "execution_count": 11,
   "metadata": {},
   "outputs": [],
   "source": [
    "List_1 = [1, 4, 5, 6, 3, 2, 7 ,8 , 66, 54, 78, 97, 54, 34, 67, 65, 56, 45, 54]"
   ]
  },
  {
   "cell_type": "code",
   "execution_count": 12,
   "metadata": {},
   "outputs": [
    {
     "name": "stdout",
     "output_type": "stream",
     "text": [
      "1 is an odd number.\n",
      "4 is an even number.\n",
      "5 is an odd number.\n",
      "6 is an even number.\n",
      "3 is an odd number.\n",
      "2 is an even number.\n",
      "7 is an odd number.\n",
      "8 is an even number.\n",
      "66 is an even number.\n",
      "54 is an even number.\n",
      "78 is an even number.\n",
      "97 is an odd number.\n",
      "54 is an even number.\n",
      "34 is an even number.\n",
      "67 is an odd number.\n",
      "65 is an odd number.\n",
      "56 is an even number.\n",
      "45 is an odd number.\n",
      "54 is an even number.\n"
     ]
    }
   ],
   "source": [
    "oddOrEven(List_1)"
   ]
  },
  {
   "cell_type": "markdown",
   "metadata": {},
   "source": [
    "Develop a modified version of the above described loop which stops at the value 66."
   ]
  },
  {
   "cell_type": "code",
   "execution_count": 13,
   "metadata": {},
   "outputs": [],
   "source": [
    "def modOddOrEven(num_list):\n",
    "    for num in num_list:\n",
    "        if num == 66:\n",
    "            break;\n",
    "        elif num % 2 == 0:\n",
    "            print(str(num) + ' is an even number.')\n",
    "        else:\n",
    "            print(str(num) + ' is an odd number.')"
   ]
  },
  {
   "cell_type": "code",
   "execution_count": 14,
   "metadata": {},
   "outputs": [
    {
     "name": "stdout",
     "output_type": "stream",
     "text": [
      "1 is an odd number.\n",
      "4 is an even number.\n",
      "5 is an odd number.\n",
      "6 is an even number.\n",
      "3 is an odd number.\n",
      "2 is an even number.\n",
      "7 is an odd number.\n",
      "8 is an even number.\n"
     ]
    }
   ],
   "source": [
    "modOddOrEven(List_1)"
   ]
  },
  {
   "cell_type": "markdown",
   "metadata": {},
   "source": [
    "Develop a modified version of the same loop which skips over the value 8 and stops when it reaches the value 65."
   ]
  },
  {
   "cell_type": "code",
   "execution_count": 15,
   "metadata": {},
   "outputs": [],
   "source": [
    "def modOddOrEven1(num_list):\n",
    "    for num in num_list:\n",
    "        if num == 8:\n",
    "            continue;\n",
    "        elif num == 65:\n",
    "                break;\n",
    "        elif num % 2 == 0:\n",
    "            print(str(num) + ' is an even number.')\n",
    "        else:\n",
    "            print(str(num) + ' is an odd number.')"
   ]
  },
  {
   "cell_type": "code",
   "execution_count": 16,
   "metadata": {},
   "outputs": [
    {
     "name": "stdout",
     "output_type": "stream",
     "text": [
      "1 is an odd number.\n",
      "4 is an even number.\n",
      "5 is an odd number.\n",
      "6 is an even number.\n",
      "3 is an odd number.\n",
      "2 is an even number.\n",
      "7 is an odd number.\n",
      "66 is an even number.\n",
      "54 is an even number.\n",
      "78 is an even number.\n",
      "97 is an odd number.\n",
      "54 is an even number.\n",
      "34 is an even number.\n",
      "67 is an odd number.\n"
     ]
    }
   ],
   "source": [
    "modOddOrEven1(List_1)"
   ]
  },
  {
   "cell_type": "markdown",
   "metadata": {},
   "source": [
    "Exercise 2: Write a program which uses a while loop then transform it so that it uses the for loop to produce the same output."
   ]
  },
  {
   "cell_type": "code",
   "execution_count": 30,
   "metadata": {},
   "outputs": [],
   "source": [
    "def fibUsingWhile(count):\n",
    "    a=0\n",
    "    b=1\n",
    "    n = 0\n",
    "    while(n < count):\n",
    "        print(b)\n",
    "        temp = a+b \n",
    "        a = b\n",
    "        b = temp\n",
    "        n += 1"
   ]
  },
  {
   "cell_type": "code",
   "execution_count": 34,
   "metadata": {},
   "outputs": [
    {
     "name": "stdout",
     "output_type": "stream",
     "text": [
      "1\n",
      "1\n",
      "2\n",
      "3\n",
      "5\n"
     ]
    }
   ],
   "source": [
    "fibUsingWhile(5)"
   ]
  },
  {
   "cell_type": "code",
   "execution_count": 36,
   "metadata": {},
   "outputs": [],
   "source": [
    "def fibUsingFor(count):\n",
    "    a=0\n",
    "    b=1\n",
    "    for n in range(0,count):\n",
    "        print(b)\n",
    "        temp = a + b\n",
    "        a = b\n",
    "        b = temp"
   ]
  },
  {
   "cell_type": "code",
   "execution_count": 39,
   "metadata": {},
   "outputs": [
    {
     "name": "stdout",
     "output_type": "stream",
     "text": [
      "1\n",
      "1\n",
      "2\n",
      "3\n",
      "5\n",
      "8\n",
      "13\n",
      "21\n",
      "34\n",
      "55\n"
     ]
    }
   ],
   "source": [
    "fibUsingFor(10)"
   ]
  },
  {
   "cell_type": "code",
   "execution_count": null,
   "metadata": {},
   "outputs": [],
   "source": []
  }
 ],
 "metadata": {
  "kernelspec": {
   "display_name": "Python 3",
   "language": "python",
   "name": "python3"
  },
  "language_info": {
   "codemirror_mode": {
    "name": "ipython",
    "version": 3
   },
   "file_extension": ".py",
   "mimetype": "text/x-python",
   "name": "python",
   "nbconvert_exporter": "python",
   "pygments_lexer": "ipython3",
   "version": "3.7.0"
  }
 },
 "nbformat": 4,
 "nbformat_minor": 2
}
