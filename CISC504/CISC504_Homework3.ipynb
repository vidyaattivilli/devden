{
 "cells": [
  {
   "cell_type": "markdown",
   "metadata": {},
   "source": [
    "Develop a counter program that converts hours and minutes to seconds\n"
   ]
  },
  {
   "cell_type": "code",
   "execution_count": 1,
   "metadata": {},
   "outputs": [
    {
     "name": "stdout",
     "output_type": "stream",
     "text": [
      "Number of hours: 5\n",
      "Number of minutes: 3\n",
      "Total number of seconds:  18180\n"
     ]
    }
   ],
   "source": [
    "hours = int(input(\"Number of hours: \"))\n",
    "minutes = int(input(\"Number of minutes: \"))\n",
    "seconds = (hours * 60 * 60) + (minutes * 60)\n",
    "print(\"Total number of seconds: \", seconds)"
   ]
  },
  {
   "cell_type": "markdown",
   "metadata": {},
   "source": [
    "Create the following list of numbers(26,1,43,21,33,106,45,4,10,3,51,56,65) and use the numpy library to sort the list then compute the mean and the median."
   ]
  },
  {
   "cell_type": "code",
   "execution_count": 4,
   "metadata": {},
   "outputs": [
    {
     "name": "stdout",
     "output_type": "stream",
     "text": [
      "Sorted list is:  [  1   3   4  10  21  26  33  43  45  51  56  65 106]\n",
      "Mean is:  35.69230769230769\n",
      "Median is:  33.0\n"
     ]
    }
   ],
   "source": [
    "import numpy as np\n",
    "mylist = [26,1,43,21,33,106,45,4,10,3,51,56,65]\n",
    "print(\"Sorted list is: \", np.sort(mylist))\n",
    "print(\"Mean is: \", np.mean(mylist))\n",
    "print(\"Median is: \", np.median(mylist))"
   ]
  },
  {
   "cell_type": "code",
   "execution_count": null,
   "metadata": {},
   "outputs": [],
   "source": []
  }
 ],
 "metadata": {
  "kernelspec": {
   "display_name": "Python 3",
   "language": "python",
   "name": "python3"
  },
  "language_info": {
   "codemirror_mode": {
    "name": "ipython",
    "version": 3
   },
   "file_extension": ".py",
   "mimetype": "text/x-python",
   "name": "python",
   "nbconvert_exporter": "python",
   "pygments_lexer": "ipython3",
   "version": "3.7.0"
  }
 },
 "nbformat": 4,
 "nbformat_minor": 2
}
